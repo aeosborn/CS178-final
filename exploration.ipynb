{
 "cells": [
  {
   "cell_type": "markdown",
   "metadata": {},
   "source": [
    "# CS 178 Exploration"
   ]
  },
  {
   "cell_type": "code",
   "execution_count": 46,
   "metadata": {},
   "outputs": [
    {
     "name": "stdout",
     "output_type": "stream",
     "text": [
      "Note: you may need to restart the kernel to use updated packages.\n"
     ]
    }
   ],
   "source": [
    "%pip install kagglehub pandas numpy matplotlib -U --quiet\n",
    "import pandas as pd\n",
    "import os\n",
    "import matplotlib.pyplot as plt \n",
    "import numpy as np\n",
    "from sklearn.feature_selection import f_classif\n",
    "from sklearn.model_selection import train_test_split\n",
    "from sklearn.linear_model import LogisticRegression\n",
    "from sklearn.exceptions import ConvergenceWarning"
   ]
  },
  {
   "cell_type": "code",
   "execution_count": 36,
   "metadata": {},
   "outputs": [],
   "source": [
    "seed = 178\n",
    "adult_data = pd.read_csv('data/adult.data', header=None)\n",
    "\n",
    "## Need to import cols, as they are not pre-defined\n",
    "adult_data.columns = ['age', 'workclass', 'fnlwgt', 'education', 'education_num', 'marital_status', 'occupation', 'relationship', 'race', 'sex', 'capital_gain', 'capital_loss', 'hours_per_week', 'native_country', 'income']\n",
    "adult_data = adult_data.replace(' ?', pd.NA) ## Original stored nas as ' ?'\n",
    "\n",
    "adult_data['income'] = adult_data['income'].apply(lambda x: 1 if x.strip() == '>50K' else 0) # Label Classifier\n",
    "\n",
    "# Get factors, label vector\n",
    "X = adult_data.drop(columns=['income'])\n",
    "y = adult_data['income']\n",
    "X = pd.get_dummies(X, drop_first=True)\n",
    "y = pd.get_dummies(y, drop_first=True).iloc[:, 0]"
   ]
  },
  {
   "cell_type": "code",
   "execution_count": 37,
   "metadata": {},
   "outputs": [
    {
     "name": "stdout",
     "output_type": "stream",
     "text": [
      "Column: age\n",
      "Variance: \t 186.056\t Mean: \t 38.5816\n",
      "Column: fnlwgt\n",
      "Variance: \t 1.11405e+10\t Mean: \t 1.89778e+05\n",
      "Column: education_num\n",
      "Variance: \t 6.61869\t Mean: \t 10.0807\n",
      "Column: capital_gain\n",
      "Variance: \t 5.45409e+07\t Mean: \t 1077.65\n",
      "Column: capital_loss\n",
      "Variance: \t 1.62372e+05\t Mean: \t 87.3038\n",
      "Column: hours_per_week\n",
      "Variance: \t 152.454\t Mean: \t 40.4375\n",
      "Proportion of > 50K Income: 0.24081\n",
      "                               Feature      F-Score   p-Value\n",
      "29  marital_status_ Married-civ-spouse  8025.842062  0.000000\n",
      "2                        education_num  4120.095780  0.000000\n",
      "31       marital_status_ Never-married  3674.200147  0.000000\n",
      "0                                  age  1886.707314  0.000000\n",
      "5                       hours_per_week  1813.386282  0.000000\n",
      "..                                 ...          ...       ...\n",
      "60                native_country_ Cuba     0.260277  0.609934\n",
      "67              native_country_ Greece     0.195063  0.658739\n",
      "76             native_country_ Ireland     0.138552  0.709727\n",
      "73             native_country_ Hungary     0.007171  0.932516\n",
      "89            native_country_ Scotland     0.005546  0.940637\n",
      "\n",
      "[97 rows x 3 columns]\n"
     ]
    }
   ],
   "source": [
    "# print(adult_data.describe())\n",
    "\n",
    "# Convert non-numeric columns to categorical features and print levels and labels\n",
    "for col in X.select_dtypes(include=['object']).columns:\n",
    "    X[col] = X[col].astype('category')\n",
    "    print(f\"Column: {col}\")\n",
    "    categories = X[col].cat.categories\n",
    "    codes = X[col].cat.codes\n",
    "    sorted_codes = sorted(codes.unique())\n",
    "    print(\"Categories and Codes in ascending order by code:\")\n",
    "    for code in sorted_codes:\n",
    "        print(f\"Code: {code}, Category: {categories[code]}\")\n",
    "    print(\"\\n\")\n",
    "\n",
    "for col in X.select_dtypes(include=['number']).columns:\n",
    "    var = np.var(X[col])\n",
    "    mean = np.mean(X[col])\n",
    "    print(f\"Column: {col}\")\n",
    "    print(f\"Variance: \\t {var:.6}\\t Mean: \\t {mean:.6}\")\n",
    "\n",
    "# Get pi = P(Y = 1)\n",
    "print(f\"Proportion of > 50K Income: {np.mean(y):.6}\")\n",
    "\n",
    "# Compute the F-value and p-value for each feature, toward factor analysis\n",
    "f_values, p_values = f_classif(X.apply(lambda col: col.cat.codes if col.dtype.name == 'category' else col), y)\n",
    "f_scores = pd.DataFrame({'Feature': X.columns, 'F-Score': f_values, 'p-Value': p_values})\n",
    "f_scores = f_scores.sort_values(by=['F-Score', 'p-Value'], ascending=False)\n",
    "\n",
    "print(f_scores)"
   ]
  },
  {
   "cell_type": "code",
   "execution_count": 38,
   "metadata": {},
   "outputs": [],
   "source": [
    "## Modelling Data Prepping\n",
    "X_train, X_test, y_train, y_test = train_test_split(X, y, test_size=0.2, random_state=seed)"
   ]
  },
  {
   "cell_type": "markdown",
   "metadata": {},
   "source": [
    "## Logistic Regression Model"
   ]
  },
  {
   "cell_type": "code",
   "execution_count": null,
   "metadata": {},
   "outputs": [
    {
     "name": "stderr",
     "output_type": "stream",
     "text": [
      "/opt/anaconda3/lib/python3.12/site-packages/sklearn/linear_model/_logistic.py:465: ConvergenceWarning: lbfgs failed to converge (status=1):\n",
      "STOP: TOTAL NO. OF ITERATIONS REACHED LIMIT.\n",
      "\n",
      "Increase the number of iterations (max_iter) or scale the data as shown in:\n",
      "    https://scikit-learn.org/stable/modules/preprocessing.html\n",
      "Please also refer to the documentation for alternative solver options:\n",
      "    https://scikit-learn.org/stable/modules/linear_model.html#logistic-regression\n",
      "  n_iter_i = _check_optimize_result(\n"
     ]
    }
   ],
   "source": [
    "## Initialize\n",
    "\n",
    "try:\n",
    "    # logit_model = LogisticRegression(max_iter=1) # Accuracy: 0.7608\n",
    "    logit_model = LogisticRegression(max_iter=2000) # Accuracy: 0.8497\n",
    "except ConvergenceWarning:\n",
    "    print('Model Converged')\n",
    "\n",
    "## Fit\n",
    "logit_model.fit(X_train, y_train)\n",
    "\n",
    "feature_names = ['Intercept'] + X_train.columns.tolist()\n",
    "coefficients = pd.DataFrame({\n",
    "    'Feature': feature_names,\n",
    "    'Coefficient': [logit_model.intercept_[0]] + logit_model.coef_[0].tolist()\n",
    "})"
   ]
  },
  {
   "cell_type": "code",
   "execution_count": 50,
   "metadata": {},
   "outputs": [
    {
     "name": "stdout",
     "output_type": "stream",
     "text": [
      "Accuracy: 0.8497\n"
     ]
    }
   ],
   "source": [
    "## Logistic Regression Results\n",
    "accuracy = logit_model.score(X_test, y_test)\n",
    "print(f\"Accuracy: {accuracy:.4f}\")"
   ]
  }
 ],
 "metadata": {
  "kernelspec": {
   "display_name": "base",
   "language": "python",
   "name": "python3"
  },
  "language_info": {
   "codemirror_mode": {
    "name": "ipython",
    "version": 3
   },
   "file_extension": ".py",
   "mimetype": "text/x-python",
   "name": "python",
   "nbconvert_exporter": "python",
   "pygments_lexer": "ipython3",
   "version": "3.12.2"
  }
 },
 "nbformat": 4,
 "nbformat_minor": 2
}
